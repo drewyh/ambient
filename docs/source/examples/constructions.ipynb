{
 "cells": [
  {
   "cell_type": "code",
   "execution_count": null,
   "metadata": {},
   "outputs": [],
   "source": [
    "import numpy as np\n",
    "\n",
    "import plotly.graph_objects as go\n",
    "from plotly.subplots import make_subplots\n",
    "\n",
    "import ambient\n",
    "from ambient import material_data as mats\n",
    "from ambient.material import MaterialResistanceOnly\n",
    "from ambient.construction import ConstructionLayered"
   ]
  },
  {
   "cell_type": "code",
   "execution_count": null,
   "metadata": {},
   "outputs": [],
   "source": [
    "con = ConstructionLayered(\n",
    "    materials=[\n",
    "        MaterialResistanceOnly(0.060),\n",
    "        mats.Brickwork(105 / 1000),\n",
    "        MaterialResistanceOnly(0.180),\n",
    "        mats.HeavyweightConcrete(100 / 1000),\n",
    "        MaterialResistanceOnly(0.120),\n",
    "    ],\n",
    "    timestep=3600,\n",
    ")   "
   ]
  },
  {
   "cell_type": "code",
   "execution_count": null,
   "metadata": {},
   "outputs": [],
   "source": [
    "def iterate_heat_transfer(con, temp_in, temp_out, qi, qo=None, iterations=100):\n",
    "    \"\"\"Iterate the heat transfer calculation.\"\"\"\n",
    "    for iteration in range(iterations):\n",
    "        for hour in range(24):\n",
    "            qi[hour] = con.calculate_heat_flux_inside(temp_out, temp_in, qi, hour)\n",
    "            if qo is not None:\n",
    "                qo[hour] = con.calculate_heat_flux_outside(temp_out, temp_in, qo, hour)"
   ]
  },
  {
   "cell_type": "code",
   "execution_count": null,
   "metadata": {},
   "outputs": [],
   "source": [
    "SOL_AIR = 273.15 + np.array(\n",
    "    (   \n",
    "        24.4, 24.4, 23.8, 23.3, 23.3, 23.8,\n",
    "        25.5, 27.2, 29.4, 31.6, 33.8, 36.1,\n",
    "        43.3, 49.4, 53.8, 55.0, 52.7, 45.5,\n",
    "        30.5, 29.4, 28.3, 27.2, 26.1, 25.0,\n",
    "    )   \n",
    ")\n",
    "\n",
    "qe = np.zeros(24)\n",
    "qo = np.zeros(24)\n",
    "temp_in = np.full_like(SOL_AIR, 273.15 + 24)\n",
    "temp_out = SOL_AIR\n",
    "\n",
    "# do multiple iterations\n",
    "iterate_heat_transfer(con, temp_in, temp_out, qe, qo, iterations=100)"
   ]
  },
  {
   "cell_type": "code",
   "execution_count": null,
   "metadata": {},
   "outputs": [],
   "source": [
    "times = np.arange(24)\n",
    "\n",
    "# Create figure with secondary y-axis\n",
    "fig = make_subplots(specs=[[{\"secondary_y\": True}]])\n",
    "\n",
    "# Add traces\n",
    "\n",
    "fig.add_trace(\n",
    "    go.Bar(x=times, y=qo, name=\"Heat transfer to outside\"),\n",
    "    #secondary_y=False,\n",
    ")\n",
    "fig.add_trace(\n",
    "    go.Bar(x=times, y=qe, name=\"Heat transfer to inside\"),\n",
    "    #secondary_y=False,\n",
    ")\n",
    "fig.add_trace(\n",
    "    go.Scatter(x=times, y=SOL_AIR - 273.15, name=\"Sol-air temp.\"),\n",
    "    #secondary_y=True,\n",
    ")\n",
    "fig.add_trace(\n",
    "    go.Scatter(x=times, y=np.full_like(SOL_AIR, 24), name=\"Inside temp.\"),\n",
    "    #secondary_y=True,\n",
    ")\n",
    "fig.add_trace(\n",
    "    go.Bar(x=times, y=con.thermal_transmittance * (SOL_AIR - 273.15 - 24), name=\"SS heat transfer\"),\n",
    "    #secondary_y=True,\n",
    ")\n",
    "\n",
    "\n",
    "# Add figure title\n",
    "fig.update_layout(\n",
    "    title_text=\"Heat transfer rate\"\n",
    ")\n",
    "\n",
    "# Set x-axis title\n",
    "fig.update_xaxes(title_text=\"Hour\")\n",
    "\n",
    "# Set y-axes titles\n",
    "#fig.update_yaxes(title_text=\"Temperature (C)\", secondary_y=True)\n",
    "fig.update_yaxes(title_text=\"Heat transfer rate (W/m2)\", secondary_y=False)\n",
    "\n",
    "fig.show()"
   ]
  },
  {
   "cell_type": "code",
   "execution_count": null,
   "metadata": {},
   "outputs": [],
   "source": []
  }
 ],
 "metadata": {
  "kernelspec": {
   "display_name": "Python 3",
   "language": "python",
   "name": "python3"
  },
  "language_info": {
   "codemirror_mode": {
    "name": "ipython",
    "version": 3
   },
   "file_extension": ".py",
   "mimetype": "text/x-python",
   "name": "python",
   "nbconvert_exporter": "python",
   "pygments_lexer": "ipython3",
   "version": "3.7.5"
  }
 },
 "nbformat": 4,
 "nbformat_minor": 4
}
